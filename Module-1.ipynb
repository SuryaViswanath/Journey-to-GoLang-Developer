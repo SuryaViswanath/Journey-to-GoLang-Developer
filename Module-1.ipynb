{
 "cells": [
  {
   "cell_type": "markdown",
   "metadata": {},
   "source": [
    "# Programming with Google GO\n",
    "\n",
    "*Personal notes for the course work from https://www.coursera.org/specializations/google-golang by Ian Harris\n",
    "\n",
    "This is a 4 course module and the 4th part will be available later some time. The course work modules are:\n",
    "1. Getting started with GO\n",
    "2. Functions, Methods and Interference in GO\n",
    "3. Concurrency in GO\n",
    "\n",
    "## What is GO Programming? How is it different from anyother?\n",
    "Go Programming is first released in 2009, it basically fits between C and Python. It is not too deep into programming yet performs well on system tasks and is also very easy to understand like that of python. \n",
    "\n",
    "**Advantages of GO**\n",
    "* Code runs fast\n",
    "          Go runs fast because it is a compiled programming laguage, hence the convertion time for the program into machine language is faster and hence this makes it both quick and easily interpreted.\n",
    "* Garbage collection\n",
    "          Automatic memory management is present, though it slows down the execution a tiny bit, it still performs efficiently the memory management and its garbage collection\n",
    "* Simpler objects\n",
    "          Although the GO Programming is object oriented programming language, it is weakly object oriented i,e., the objects here have lesser features. Go rather than using term class we use struct to define the class of the program. It doesn't contain inheritance, generics and constructors. \n",
    "* Concurrency is efficient\n",
    "          Concurreny in GO is one the best feature. It is included in the GO programming is because of the performance limits that are available in the computer, hence to enhance the performance GO uses concurrency to increase the speed. It manages, communicates and synchronizes between tasks making it faster to exectute program.\n",
    "          Goroutines - represent concurrent tasks\n",
    "          channels   - communication between tasks\n",
    "          Select     - Task synchronization"
   ]
  },
  {
   "cell_type": "markdown",
   "metadata": {},
   "source": [
    "### Workspaces and packages\n",
    "*To be filled\n",
    "\n",
    "### Go Tool\n",
    "* Import- It is used to access the other packages. When we need to use a package the go tool seaches under **GOROOT** and **GOPATH**, so it is a best practice to have it in the above paths. If you need to use any other packages other than from the packages mentioned in the above environment paths, then we need to change the environment paths and use the packages.\n",
    "\n",
    "* It manages the general GO souce\n",
    "\n",
    "There are many go tools, some of them are:\n",
    "1. go build - Compiles the program\n",
    "                * argument scan be list of packages or a list of .go files\n",
    "                * creates and executable fot the main package\n",
    "                * creates an executable file\n",
    "2. go doc   - Prints the documentation from the package\n",
    "3. go fmt   - Formats the source code files\n",
    "4. go get   - Downloads the packages and installs them ( similar to pip)\n",
    "5. go list  - Lists all the installed packages\n",
    "6. go run   - Compiles .go files and runs the executables\n",
    "7. go test  - runs test using the files ending in _test.go\n"
   ]
  },
  {
   "cell_type": "markdown",
   "metadata": {},
   "source": [
    "### Variables\n",
    "\n",
    "In go every variable needs to have a name and type explicitly mentioned prior to using it. The variable declaration is very similar to that of the c programming. The variable declaration is done as follows\n",
    "```go\n",
    "var name string \n",
    "var studentID int\n",
    "```\n",
    "\n",
    "There is a technique of creating alias to the types, this helps in understanding or even predefining the a set rule to any scenario requiring a type of variable i.e.,\n",
    "```go\n",
    "type ID int\n",
    "type celsius float64\n",
    "\n",
    "var temp celsius\n",
    "var studentID ID\n",
    "```\n",
    "This alias hence helps in easier understanding of what kind are we using.\n",
    "\n",
    "**Initialization of the variable**\n",
    "```go\n",
    "var x int = 100\n",
    "var x int\n",
    "x = 100\n",
    "``` \n",
    "These are the typical ways to initialize the value of the variable upon declaration of the variable, if the value is not specified then the variable stores '0' or \"\" in the variable hence declared.\n",
    "\n",
    "```go\n",
    "\n",
    "var x = 100\n",
    "\n",
    "```\n",
    "Since GO is also an interpreter, it allows us to directly declare the value to the variable upon declaration and it understands what is the type of data we are using in the variable. Although this way if we ever wanted to use x as a floating value it will throw error even though you intended to use it as float but the interpreter understood it as int\n",
    "\n",
    "if we were to define a value on the fly or we haven't declared, GO lets us initiate even in the middle as follows\n",
    "\n",
    "```go\n",
    "x:=100\n",
    "```\n",
    "This initializes and declares the variable making it easy for us to continue programming."
   ]
  },
  {
   "cell_type": "code",
   "execution_count": null,
   "metadata": {},
   "outputs": [],
   "source": []
  }
 ],
 "metadata": {
  "kernelspec": {
   "display_name": "Python 3",
   "language": "python",
   "name": "python3"
  },
  "language_info": {
   "codemirror_mode": {
    "name": "ipython",
    "version": 3
   },
   "file_extension": ".py",
   "mimetype": "text/x-python",
   "name": "python",
   "nbconvert_exporter": "python",
   "pygments_lexer": "ipython3",
   "version": "3.8.1"
  }
 },
 "nbformat": 4,
 "nbformat_minor": 4
}
